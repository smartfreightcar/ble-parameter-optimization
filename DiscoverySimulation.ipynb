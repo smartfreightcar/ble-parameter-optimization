{
 "cells": [
  {
   "cell_type": "markdown",
   "metadata": {},
   "source": [
    "# Neighbor Discovery Simulation\n",
    "The following code demonstrates the usage of the BLE neighbor discovery simulation presented in \"\". "
   ]
  },
  {
   "cell_type": "code",
   "execution_count": null,
   "metadata": {},
   "outputs": [],
   "source": [
    "# Imports from Python Library\n",
    "from DiscoverySimulation import DiscoverySimulation, calc_mean_for_paramset"
   ]
  },
  {
   "cell_type": "code",
   "execution_count": null,
   "metadata": {},
   "outputs": [],
   "source": [
    "# Specify BLE Discovery Parameters \n",
    "T = 5.12\n",
    "Ts = 3\n",
    "Ta = 4\n",
    "\n",
    "# Specify Paramset as Triple (T, Ts, Ta)\n",
    "paramset = (T, Ts, Ta)\n",
    "\n",
    "# Run Simulation for Paramset\n",
    "result = calc_mean_for_paramset(paramset=paramset, samples=10000, rngloss=0.85)\n",
    "\n",
    "# Result is a tuple of (paramset, (mean, stdDev), individualResults), unpack it\n",
    "paramset, (mean, stdDev), individualResults = result\n",
    "\n",
    "print(\"Paramset\", paramset, \"resulted in\", mean, \"seconds mean discovery latency\")"
   ]
  },
  {
   "cell_type": "markdown",
   "metadata": {},
   "source": [
    "# Advanced usage\n",
    "the calc_mean_for_paramset() function is a helper for running the simulation with a default set of other parameters (slotsize for simulation, advertisement length, advertisement random delay, ...). These usually provide a good starting point.\n",
    "However if more fine grained control is needed, the DiscoverySimulation class allows for more advanced setups. Every time based parameter given to the class is a number of slots. Every time based return value is a number of slots. You have to do the conversion by yourself."
   ]
  },
  {
   "cell_type": "code",
   "execution_count": null,
   "metadata": {},
   "outputs": [],
   "source": [
    "SECONDS_PER_SLOT = 0.625 * 10**(-6)\n",
    "\n",
    "T = 5.12\n",
    "Ts = 3\n",
    "Ta = 4\n",
    "paramset = (T, Ts, Ta)\n",
    "\n",
    "TSlots = T/SECONDS_PER_SLOT\n",
    "TsSlots = Ts/SECONDS_PER_SLOT\n",
    "TaSlots = Ta/SECONDS_PER_SLOT\n",
    "\n",
    "advSize = 20 # Advertisement Size in Bytes\n",
    "\n",
    "# 20 Bytes / 1MBit/s\n",
    "advLength = (advSize*8) / 1000000 # Advertisement PDU Length\n",
    "advLengthSlots = advLength/SECONDS_PER_SLOT # Advertisement PDU Length in Slots\n",
    "bLengthSlots = (0.01 - advLength)/SECONDS_PER_SLOT # Advertisement delay in Slots\n",
    "\n",
    "randomslots = 0.01/SECONDS_PER_SLOT # Random Advertisement Interval in Slots\n",
    "\n",
    "rngLoss = 0.85 # Loss of Advertisement matches\n",
    "\n",
    "samples = 10000 # Sample counf for calculating mean values\n",
    "\n",
    "sim = DiscoverySimulation(TSlots, TsSlots, TaSlots, advLengthSlots, bLengthSlots, randomslots, rngLoss)\n",
    "meanSlots, stdDevSlots, individualResults = sim.mean(samples=samples)\n",
    "\n",
    "mean = meanSlots * SECONDS_PER_SLOT\n",
    "stdDev = stdDevSlots * SECONDS_PER_SLOT\n",
    "\n",
    "print(\"Paramset\", paramset, \"resulted in\", mean, \"seconds mean discovery latency\")"
   ]
  },
  {
   "cell_type": "markdown",
   "metadata": {},
   "source": [
    "## Iterating over parameter space\n",
    "Sometimes it is necessary to iterate the simulation over a whole range of parameters. This can be made by using python generators and a process pool for faster execution.\n",
    "It is advised to use a downsampling factor if iterating over a large parameter space."
   ]
  },
  {
   "cell_type": "code",
   "execution_count": null,
   "metadata": {},
   "outputs": [],
   "source": [
    "from multiprocessing import Pool\n",
    "\n",
    "factor = 5000\n",
    "def genrange(minarg, maxarg, step):\n",
    "    \"\"\"\n",
    "    Generator for range \n",
    "    \"\"\"\n",
    "    k = minarg\n",
    "    while k <= maxarg:\n",
    "        yield k\n",
    "        k += step\n",
    "\n",
    "def parameterGenerator():\n",
    "    \"\"\"\n",
    "    Generator for all valid parameter set tuples (P in paper)\n",
    "    \"\"\"\n",
    "    MS = 10**(-3)\n",
    "\n",
    "    for T in genrange(20*MS, 10.24, 0.625*MS * factor):  # Scanning Interval\n",
    "        for Ts in genrange(20*MS, 10.24, 0.625*MS * factor):                      # Scanning Window\n",
    "            for Ta in genrange(20*MS, 10.24, 0.625*MS * factor):\n",
    "                if Ts <= T:\n",
    "                    yield (T, Ts, Ta)"
   ]
  },
  {
   "cell_type": "code",
   "execution_count": null,
   "metadata": {},
   "outputs": [],
   "source": [
    "with Pool(16) as p:\n",
    "    results = p.imap_unordered(calc_mean_for_paramset, parameterGenerator())\n",
    "\n",
    "    for paramset, stats, individualResults in results:\n",
    "        (T, Ts, Ta) = paramset\n",
    "        (meanD, stdDev) = stats\n",
    "        \n",
    "        print(\"Paramset\", paramset, \"resulted in\", meanD, \"seconds mean discovery latency\")"
   ]
  }
 ],
 "metadata": {
  "kernelspec": {
   "display_name": "base",
   "language": "python",
   "name": "python3"
  },
  "language_info": {
   "codemirror_mode": {
    "name": "ipython",
    "version": 3
   },
   "file_extension": ".py",
   "mimetype": "text/x-python",
   "name": "python",
   "nbconvert_exporter": "python",
   "pygments_lexer": "ipython3",
   "version": "3.9.16"
  },
  "orig_nbformat": 4
 },
 "nbformat": 4,
 "nbformat_minor": 2
}
